{
 "cells": [
  {
   "cell_type": "markdown",
   "id": "51415949-208f-4d80-81f4-856e7c95eba2",
   "metadata": {},
   "source": [
    "### Load data"
   ]
  },
  {
   "cell_type": "code",
   "execution_count": 1,
   "id": "34a513ca-82c2-4980-ade7-6393750508f7",
   "metadata": {},
   "outputs": [],
   "source": [
    "import pandas as pd\n",
    "import numpy as np\n",
    "from sklearn.ensemble import RandomForestClassifier\n",
    "from sklearn.model_selection import train_test_split, cross_val_score\n",
    "from sklearn.metrics import accuracy_score\n",
    "import pickle"
   ]
  },
  {
   "cell_type": "code",
   "execution_count": 2,
   "id": "f5ae1fd2-fc64-457f-a75d-2d072d2245bd",
   "metadata": {},
   "outputs": [],
   "source": [
    "with open('/preprocessing/processed_data.pickle','rb') as f:\n",
    "    preproc_data = pickle.load(f)"
   ]
  },
  {
   "cell_type": "code",
   "execution_count": 3,
   "id": "84fcdabd-b739-4a3f-b715-88be4e461124",
   "metadata": {},
   "outputs": [],
   "source": [
    "cytokine_df = preproc_data['cytokine_data']\n",
    "patient_meta = preproc_data['metadata'] \n",
    "patient_info = preproc_data['clinical'] "
   ]
  },
  {
   "cell_type": "markdown",
   "id": "51c7c491-477e-4a2a-ba9a-0f8219659810",
   "metadata": {},
   "source": [
    "### Train data prerparing"
   ]
  },
  {
   "cell_type": "code",
   "execution_count": 4,
   "id": "abd8a104-b573-431b-aec3-7439af37b59e",
   "metadata": {},
   "outputs": [],
   "source": [
    "normal_df = cytokine_df[cytokine_df.index.str.contains('Healthy')]\n",
    "severe_samples = patient_meta[patient_meta.Severity >= 6]\n",
    "severe_df = cytokine_df[cytokine_df.index.isin(severe_samples.Sample)]"
   ]
  },
  {
   "cell_type": "code",
   "execution_count": 5,
   "id": "02781dde-fe20-4418-8315-86d4209485a5",
   "metadata": {},
   "outputs": [
    {
     "name": "stderr",
     "output_type": "stream",
     "text": [
      "/tmp/ipykernel_80334/1617201421.py:1: SettingWithCopyWarning: \n",
      "A value is trying to be set on a copy of a slice from a DataFrame.\n",
      "Try using .loc[row_indexer,col_indexer] = value instead\n",
      "\n",
      "See the caveats in the documentation: https://pandas.pydata.org/pandas-docs/stable/user_guide/indexing.html#returning-a-view-versus-a-copy\n",
      "  normal_df['source'] = 0\n",
      "/tmp/ipykernel_80334/1617201421.py:2: SettingWithCopyWarning: \n",
      "A value is trying to be set on a copy of a slice from a DataFrame.\n",
      "Try using .loc[row_indexer,col_indexer] = value instead\n",
      "\n",
      "See the caveats in the documentation: https://pandas.pydata.org/pandas-docs/stable/user_guide/indexing.html#returning-a-view-versus-a-copy\n",
      "  severe_df['source'] = 1\n"
     ]
    }
   ],
   "source": [
    "normal_df['source'] = 0\n",
    "severe_df['source'] = 1"
   ]
  },
  {
   "cell_type": "code",
   "execution_count": 6,
   "id": "feaf89fb-83c1-4ef4-a94f-be4ed128391b",
   "metadata": {},
   "outputs": [
    {
     "data": {
      "text/plain": [
       "(            CXCL9        LIF   CXCL11       IL25    IL12B       IL10  \\\n",
       " Healthy1  6.560136  4.251866  4.151513  7.586942  5.541050  1.843384   \n",
       " Healthy2  5.277100  4.089332  3.650800  7.886990  6.377469  2.113211   \n",
       " \n",
       "              IL13       IL11     IL15      PTX3   ...    FSTL3    FLT3LG   \\\n",
       " Healthy1  6.470743  6.949630  3.716450  5.163174  ...  9.613881  4.906822   \n",
       " Healthy2  6.450212  7.541794  4.181554  6.741940  ...  9.458981  4.658021   \n",
       " \n",
       "                FAP     FABP4         F3     ESM1     ERBB3      ENPP2   \\\n",
       " Healthy1  10.903602  7.923477  3.383774  6.034197  9.096096  10.839433   \n",
       " Healthy2  11.238270  8.730215  3.317157  5.497652  8.543655  10.454511   \n",
       " \n",
       "             WFDC2   source  \n",
       " Healthy1  8.383246       0  \n",
       " Healthy2  8.260845       0  \n",
       " \n",
       " [2 rows x 167 columns],\n",
       "               CXCL9        LIF   CXCL11       IL25    IL12B       IL10  \\\n",
       " Patient2_1  7.426598  4.211594  4.429560  7.799068  6.318247  1.769972   \n",
       " Patient2_2  7.541794  4.355353  4.514350  7.886990  6.741940  1.769972   \n",
       " Patient2_3  7.541794  4.151513  3.933607  7.799068  6.159825  1.916796   \n",
       " Patient2_4  7.130935  4.429560  3.585707  7.886990  5.612199  1.916796   \n",
       " \n",
       "                IL13       IL11     IL15      PTX3   ...    FSTL3    FLT3LG   \\\n",
       " Patient2_1  5.725485  6.782954  3.716450  8.190382  ...  8.802718  3.042321   \n",
       " Patient2_2  5.843465  6.646599  3.716450  7.496809  ...  9.008530  3.317157   \n",
       " Patient2_3  5.984188  6.701283  3.880626  7.210939  ...  9.214496  3.448254   \n",
       " Patient2_4  6.214099  6.883351  3.933607  7.496809  ...  9.008530  3.448254   \n",
       " \n",
       "                 FAP     FABP4         F3     ESM1     ERBB3     ENPP2   \\\n",
       " Patient2_1  7.886990  9.296877  2.952843  5.214755  8.543655  9.096096   \n",
       " Patient2_2  8.110591  9.168168  2.820616  5.497652  8.683792  9.296877   \n",
       " Patient2_3  8.190382  9.296877  3.232241  5.306376  8.862940  9.535287   \n",
       " Patient2_4  8.383246  9.296877  3.127159  5.306376  9.096096  9.613881   \n",
       " \n",
       "               WFDC2   source  \n",
       " Patient2_1  8.909767       1  \n",
       " Patient2_2  8.862940       1  \n",
       " Patient2_3  8.909767       1  \n",
       " Patient2_4  8.683792       1  \n",
       " \n",
       " [4 rows x 167 columns])"
      ]
     },
     "execution_count": 6,
     "metadata": {},
     "output_type": "execute_result"
    }
   ],
   "source": [
    "normal_df,severe_df"
   ]
  },
  {
   "cell_type": "markdown",
   "id": "345b469c-a7b0-4a97-a62f-920343246454",
   "metadata": {},
   "source": [
    "### Model training"
   ]
  },
  {
   "cell_type": "code",
   "execution_count": 7,
   "id": "0f80e76f-e9cc-44b6-9c03-363c04d9a070",
   "metadata": {},
   "outputs": [],
   "source": [
    "#Generally, model training consists of splitted datasets which consist of Train vs. Test.\n",
    "#However, the partial dataset is too small, so we can provide example code for training set.\n",
    "\n",
    "df = pd.concat([normal_df,severe_df],axis = 0)"
   ]
  },
  {
   "cell_type": "code",
   "execution_count": 8,
   "id": "b4f2f8f0-5eae-4d4c-98c0-4319a5299275",
   "metadata": {},
   "outputs": [],
   "source": [
    "X = df.drop(columns=['source'])\n",
    "y = df['source']"
   ]
  },
  {
   "cell_type": "code",
   "execution_count": 9,
   "id": "945db45e-1dca-4b4e-b014-76203a9fb1b2",
   "metadata": {},
   "outputs": [],
   "source": [
    "#X_train, X_test, y_train, y_test = train_test_split(X, y, test_size=0.20)\n",
    "#Assume X_train as X, y as well\n",
    "\n",
    "X_train = X\n",
    "y_train = y"
   ]
  },
  {
   "cell_type": "code",
   "execution_count": 10,
   "id": "4b4e091d-bff3-45bf-ab02-ed36eb861d11",
   "metadata": {
    "tags": []
   },
   "outputs": [
    {
     "data": {
      "text/html": [
       "<style>#sk-container-id-1 {color: black;}#sk-container-id-1 pre{padding: 0;}#sk-container-id-1 div.sk-toggleable {background-color: white;}#sk-container-id-1 label.sk-toggleable__label {cursor: pointer;display: block;width: 100%;margin-bottom: 0;padding: 0.3em;box-sizing: border-box;text-align: center;}#sk-container-id-1 label.sk-toggleable__label-arrow:before {content: \"▸\";float: left;margin-right: 0.25em;color: #696969;}#sk-container-id-1 label.sk-toggleable__label-arrow:hover:before {color: black;}#sk-container-id-1 div.sk-estimator:hover label.sk-toggleable__label-arrow:before {color: black;}#sk-container-id-1 div.sk-toggleable__content {max-height: 0;max-width: 0;overflow: hidden;text-align: left;background-color: #f0f8ff;}#sk-container-id-1 div.sk-toggleable__content pre {margin: 0.2em;color: black;border-radius: 0.25em;background-color: #f0f8ff;}#sk-container-id-1 input.sk-toggleable__control:checked~div.sk-toggleable__content {max-height: 200px;max-width: 100%;overflow: auto;}#sk-container-id-1 input.sk-toggleable__control:checked~label.sk-toggleable__label-arrow:before {content: \"▾\";}#sk-container-id-1 div.sk-estimator input.sk-toggleable__control:checked~label.sk-toggleable__label {background-color: #d4ebff;}#sk-container-id-1 div.sk-label input.sk-toggleable__control:checked~label.sk-toggleable__label {background-color: #d4ebff;}#sk-container-id-1 input.sk-hidden--visually {border: 0;clip: rect(1px 1px 1px 1px);clip: rect(1px, 1px, 1px, 1px);height: 1px;margin: -1px;overflow: hidden;padding: 0;position: absolute;width: 1px;}#sk-container-id-1 div.sk-estimator {font-family: monospace;background-color: #f0f8ff;border: 1px dotted black;border-radius: 0.25em;box-sizing: border-box;margin-bottom: 0.5em;}#sk-container-id-1 div.sk-estimator:hover {background-color: #d4ebff;}#sk-container-id-1 div.sk-parallel-item::after {content: \"\";width: 100%;border-bottom: 1px solid gray;flex-grow: 1;}#sk-container-id-1 div.sk-label:hover label.sk-toggleable__label {background-color: #d4ebff;}#sk-container-id-1 div.sk-serial::before {content: \"\";position: absolute;border-left: 1px solid gray;box-sizing: border-box;top: 0;bottom: 0;left: 50%;z-index: 0;}#sk-container-id-1 div.sk-serial {display: flex;flex-direction: column;align-items: center;background-color: white;padding-right: 0.2em;padding-left: 0.2em;position: relative;}#sk-container-id-1 div.sk-item {position: relative;z-index: 1;}#sk-container-id-1 div.sk-parallel {display: flex;align-items: stretch;justify-content: center;background-color: white;position: relative;}#sk-container-id-1 div.sk-item::before, #sk-container-id-1 div.sk-parallel-item::before {content: \"\";position: absolute;border-left: 1px solid gray;box-sizing: border-box;top: 0;bottom: 0;left: 50%;z-index: -1;}#sk-container-id-1 div.sk-parallel-item {display: flex;flex-direction: column;z-index: 1;position: relative;background-color: white;}#sk-container-id-1 div.sk-parallel-item:first-child::after {align-self: flex-end;width: 50%;}#sk-container-id-1 div.sk-parallel-item:last-child::after {align-self: flex-start;width: 50%;}#sk-container-id-1 div.sk-parallel-item:only-child::after {width: 0;}#sk-container-id-1 div.sk-dashed-wrapped {border: 1px dashed gray;margin: 0 0.4em 0.5em 0.4em;box-sizing: border-box;padding-bottom: 0.4em;background-color: white;}#sk-container-id-1 div.sk-label label {font-family: monospace;font-weight: bold;display: inline-block;line-height: 1.2em;}#sk-container-id-1 div.sk-label-container {text-align: center;}#sk-container-id-1 div.sk-container {/* jupyter's `normalize.less` sets `[hidden] { display: none; }` but bootstrap.min.css set `[hidden] { display: none !important; }` so we also need the `!important` here to be able to override the default hidden behavior on the sphinx rendered scikit-learn.org. See: https://github.com/scikit-learn/scikit-learn/issues/21755 */display: inline-block !important;position: relative;}#sk-container-id-1 div.sk-text-repr-fallback {display: none;}</style><div id=\"sk-container-id-1\" class=\"sk-top-container\"><div class=\"sk-text-repr-fallback\"><pre>RandomForestClassifier()</pre><b>In a Jupyter environment, please rerun this cell to show the HTML representation or trust the notebook. <br />On GitHub, the HTML representation is unable to render, please try loading this page with nbviewer.org.</b></div><div class=\"sk-container\" hidden><div class=\"sk-item\"><div class=\"sk-estimator sk-toggleable\"><input class=\"sk-toggleable__control sk-hidden--visually\" id=\"sk-estimator-id-1\" type=\"checkbox\" checked><label for=\"sk-estimator-id-1\" class=\"sk-toggleable__label sk-toggleable__label-arrow\">RandomForestClassifier</label><div class=\"sk-toggleable__content\"><pre>RandomForestClassifier()</pre></div></div></div></div></div>"
      ],
      "text/plain": [
       "RandomForestClassifier()"
      ]
     },
     "execution_count": 10,
     "metadata": {},
     "output_type": "execute_result"
    }
   ],
   "source": [
    "rf_model = RandomForestClassifier()\n",
    "rf_model.fit(X_train, y_train)\n"
   ]
  },
  {
   "cell_type": "code",
   "execution_count": 11,
   "id": "f834392f-f3e7-44f2-b7d5-dca53f7ccd22",
   "metadata": {},
   "outputs": [
    {
     "data": {
      "text/html": [
       "<div>\n",
       "<style scoped>\n",
       "    .dataframe tbody tr th:only-of-type {\n",
       "        vertical-align: middle;\n",
       "    }\n",
       "\n",
       "    .dataframe tbody tr th {\n",
       "        vertical-align: top;\n",
       "    }\n",
       "\n",
       "    .dataframe thead th {\n",
       "        text-align: right;\n",
       "    }\n",
       "</style>\n",
       "<table border=\"1\" class=\"dataframe\">\n",
       "  <thead>\n",
       "    <tr style=\"text-align: right;\">\n",
       "      <th></th>\n",
       "      <th>CXCL9</th>\n",
       "      <th>LIF</th>\n",
       "      <th>CXCL11</th>\n",
       "      <th>IL25</th>\n",
       "      <th>IL12B</th>\n",
       "      <th>IL10</th>\n",
       "      <th>IL13</th>\n",
       "      <th>IL11</th>\n",
       "      <th>IL15</th>\n",
       "      <th>PTX3</th>\n",
       "      <th>...</th>\n",
       "      <th>FURIN</th>\n",
       "      <th>FSTL3</th>\n",
       "      <th>FLT3LG</th>\n",
       "      <th>FAP</th>\n",
       "      <th>FABP4</th>\n",
       "      <th>F3</th>\n",
       "      <th>ESM1</th>\n",
       "      <th>ERBB3</th>\n",
       "      <th>ENPP2</th>\n",
       "      <th>WFDC2</th>\n",
       "    </tr>\n",
       "  </thead>\n",
       "  <tbody>\n",
       "    <tr>\n",
       "      <th>Healthy1</th>\n",
       "      <td>6.560136</td>\n",
       "      <td>4.251866</td>\n",
       "      <td>4.151513</td>\n",
       "      <td>7.586942</td>\n",
       "      <td>5.541050</td>\n",
       "      <td>1.843384</td>\n",
       "      <td>6.470743</td>\n",
       "      <td>6.949630</td>\n",
       "      <td>3.716450</td>\n",
       "      <td>5.163174</td>\n",
       "      <td>...</td>\n",
       "      <td>6.883351</td>\n",
       "      <td>9.613881</td>\n",
       "      <td>4.906822</td>\n",
       "      <td>10.903602</td>\n",
       "      <td>7.923477</td>\n",
       "      <td>3.383774</td>\n",
       "      <td>6.034197</td>\n",
       "      <td>9.096096</td>\n",
       "      <td>10.839433</td>\n",
       "      <td>8.383246</td>\n",
       "    </tr>\n",
       "    <tr>\n",
       "      <th>Healthy2</th>\n",
       "      <td>5.277100</td>\n",
       "      <td>4.089332</td>\n",
       "      <td>3.650800</td>\n",
       "      <td>7.886990</td>\n",
       "      <td>6.377469</td>\n",
       "      <td>2.113211</td>\n",
       "      <td>6.450212</td>\n",
       "      <td>7.541794</td>\n",
       "      <td>4.181554</td>\n",
       "      <td>6.741940</td>\n",
       "      <td>...</td>\n",
       "      <td>7.002611</td>\n",
       "      <td>9.458981</td>\n",
       "      <td>4.658021</td>\n",
       "      <td>11.238270</td>\n",
       "      <td>8.730215</td>\n",
       "      <td>3.317157</td>\n",
       "      <td>5.497652</td>\n",
       "      <td>8.543655</td>\n",
       "      <td>10.454511</td>\n",
       "      <td>8.260845</td>\n",
       "    </tr>\n",
       "    <tr>\n",
       "      <th>Patient2_1</th>\n",
       "      <td>7.426598</td>\n",
       "      <td>4.211594</td>\n",
       "      <td>4.429560</td>\n",
       "      <td>7.799068</td>\n",
       "      <td>6.318247</td>\n",
       "      <td>1.769972</td>\n",
       "      <td>5.725485</td>\n",
       "      <td>6.782954</td>\n",
       "      <td>3.716450</td>\n",
       "      <td>8.190382</td>\n",
       "      <td>...</td>\n",
       "      <td>7.660761</td>\n",
       "      <td>8.802718</td>\n",
       "      <td>3.042321</td>\n",
       "      <td>7.886990</td>\n",
       "      <td>9.296877</td>\n",
       "      <td>2.952843</td>\n",
       "      <td>5.214755</td>\n",
       "      <td>8.543655</td>\n",
       "      <td>9.096096</td>\n",
       "      <td>8.909767</td>\n",
       "    </tr>\n",
       "    <tr>\n",
       "      <th>Patient2_2</th>\n",
       "      <td>7.541794</td>\n",
       "      <td>4.355353</td>\n",
       "      <td>4.514350</td>\n",
       "      <td>7.886990</td>\n",
       "      <td>6.741940</td>\n",
       "      <td>1.769972</td>\n",
       "      <td>5.843465</td>\n",
       "      <td>6.646599</td>\n",
       "      <td>3.716450</td>\n",
       "      <td>7.496809</td>\n",
       "      <td>...</td>\n",
       "      <td>7.210939</td>\n",
       "      <td>9.008530</td>\n",
       "      <td>3.317157</td>\n",
       "      <td>8.110591</td>\n",
       "      <td>9.168168</td>\n",
       "      <td>2.820616</td>\n",
       "      <td>5.497652</td>\n",
       "      <td>8.683792</td>\n",
       "      <td>9.296877</td>\n",
       "      <td>8.862940</td>\n",
       "    </tr>\n",
       "    <tr>\n",
       "      <th>Patient2_3</th>\n",
       "      <td>7.541794</td>\n",
       "      <td>4.151513</td>\n",
       "      <td>3.933607</td>\n",
       "      <td>7.799068</td>\n",
       "      <td>6.159825</td>\n",
       "      <td>1.916796</td>\n",
       "      <td>5.984188</td>\n",
       "      <td>6.701283</td>\n",
       "      <td>3.880626</td>\n",
       "      <td>7.210939</td>\n",
       "      <td>...</td>\n",
       "      <td>6.646599</td>\n",
       "      <td>9.214496</td>\n",
       "      <td>3.448254</td>\n",
       "      <td>8.190382</td>\n",
       "      <td>9.296877</td>\n",
       "      <td>3.232241</td>\n",
       "      <td>5.306376</td>\n",
       "      <td>8.862940</td>\n",
       "      <td>9.535287</td>\n",
       "      <td>8.909767</td>\n",
       "    </tr>\n",
       "    <tr>\n",
       "      <th>Patient2_4</th>\n",
       "      <td>7.130935</td>\n",
       "      <td>4.429560</td>\n",
       "      <td>3.585707</td>\n",
       "      <td>7.886990</td>\n",
       "      <td>5.612199</td>\n",
       "      <td>1.916796</td>\n",
       "      <td>6.214099</td>\n",
       "      <td>6.883351</td>\n",
       "      <td>3.933607</td>\n",
       "      <td>7.496809</td>\n",
       "      <td>...</td>\n",
       "      <td>6.532043</td>\n",
       "      <td>9.008530</td>\n",
       "      <td>3.448254</td>\n",
       "      <td>8.383246</td>\n",
       "      <td>9.296877</td>\n",
       "      <td>3.127159</td>\n",
       "      <td>5.306376</td>\n",
       "      <td>9.096096</td>\n",
       "      <td>9.613881</td>\n",
       "      <td>8.683792</td>\n",
       "    </tr>\n",
       "  </tbody>\n",
       "</table>\n",
       "<p>6 rows × 166 columns</p>\n",
       "</div>"
      ],
      "text/plain": [
       "              CXCL9        LIF   CXCL11       IL25    IL12B       IL10  \\\n",
       "Healthy1    6.560136  4.251866  4.151513  7.586942  5.541050  1.843384   \n",
       "Healthy2    5.277100  4.089332  3.650800  7.886990  6.377469  2.113211   \n",
       "Patient2_1  7.426598  4.211594  4.429560  7.799068  6.318247  1.769972   \n",
       "Patient2_2  7.541794  4.355353  4.514350  7.886990  6.741940  1.769972   \n",
       "Patient2_3  7.541794  4.151513  3.933607  7.799068  6.159825  1.916796   \n",
       "Patient2_4  7.130935  4.429560  3.585707  7.886990  5.612199  1.916796   \n",
       "\n",
       "               IL13       IL11     IL15      PTX3   ...     FURIN    FSTL3   \\\n",
       "Healthy1    6.470743  6.949630  3.716450  5.163174  ...  6.883351  9.613881   \n",
       "Healthy2    6.450212  7.541794  4.181554  6.741940  ...  7.002611  9.458981   \n",
       "Patient2_1  5.725485  6.782954  3.716450  8.190382  ...  7.660761  8.802718   \n",
       "Patient2_2  5.843465  6.646599  3.716450  7.496809  ...  7.210939  9.008530   \n",
       "Patient2_3  5.984188  6.701283  3.880626  7.210939  ...  6.646599  9.214496   \n",
       "Patient2_4  6.214099  6.883351  3.933607  7.496809  ...  6.532043  9.008530   \n",
       "\n",
       "             FLT3LG        FAP     FABP4         F3     ESM1     ERBB3   \\\n",
       "Healthy1    4.906822  10.903602  7.923477  3.383774  6.034197  9.096096   \n",
       "Healthy2    4.658021  11.238270  8.730215  3.317157  5.497652  8.543655   \n",
       "Patient2_1  3.042321   7.886990  9.296877  2.952843  5.214755  8.543655   \n",
       "Patient2_2  3.317157   8.110591  9.168168  2.820616  5.497652  8.683792   \n",
       "Patient2_3  3.448254   8.190382  9.296877  3.232241  5.306376  8.862940   \n",
       "Patient2_4  3.448254   8.383246  9.296877  3.127159  5.306376  9.096096   \n",
       "\n",
       "               ENPP2     WFDC2   \n",
       "Healthy1    10.839433  8.383246  \n",
       "Healthy2    10.454511  8.260845  \n",
       "Patient2_1   9.096096  8.909767  \n",
       "Patient2_2   9.296877  8.862940  \n",
       "Patient2_3   9.535287  8.909767  \n",
       "Patient2_4   9.613881  8.683792  \n",
       "\n",
       "[6 rows x 166 columns]"
      ]
     },
     "execution_count": 11,
     "metadata": {},
     "output_type": "execute_result"
    }
   ],
   "source": [
    "X_train"
   ]
  },
  {
   "cell_type": "code",
   "execution_count": 12,
   "id": "9b141182-2008-4e8f-ac89-2ba5dcae05cd",
   "metadata": {},
   "outputs": [],
   "source": [
    "# Let's assume test set as well\n",
    "y_test = y\n",
    "X_test = X\n",
    "\n",
    "y_pred = rf_model.predict(X_test)\n",
    "accuracy = accuracy_score(y_test, y_pred)\n"
   ]
  },
  {
   "cell_type": "code",
   "execution_count": 13,
   "id": "94ab4b38-8461-410e-910f-ffbaca0a2d9b",
   "metadata": {},
   "outputs": [
    {
     "name": "stdout",
     "output_type": "stream",
     "text": [
      "1.0\n"
     ]
    }
   ],
   "source": [
    "print(accuracy)"
   ]
  },
  {
   "cell_type": "markdown",
   "id": "e270c000-8232-4571-993d-34885a8852b4",
   "metadata": {},
   "source": [
    "### Confusion matrix"
   ]
  },
  {
   "cell_type": "code",
   "execution_count": 14,
   "id": "5b336510-7c81-455e-9b7e-8e50ec517dec",
   "metadata": {},
   "outputs": [],
   "source": [
    "from sklearn.metrics import confusion_matrix\n",
    "import matplotlib.pyplot as plt\n",
    "import seaborn as sns\n",
    "\n",
    "conf_matrix = confusion_matrix(y_test, y_pred)\n"
   ]
  },
  {
   "cell_type": "code",
   "execution_count": 15,
   "id": "5b6334e8-7c14-4c78-a19c-f1324d768a3c",
   "metadata": {},
   "outputs": [
    {
     "data": {
      "image/png": "[encoded data removed]",
      "text/plain": [
       "<Figure size 576x432 with 2 Axes>"
      ]
     },
     "metadata": {
      "needs_background": "light"
     },
     "output_type": "display_data"
    }
   ],
   "source": [
    "plt.figure(figsize=(8, 6))\n",
    "sns.heatmap(conf_matrix, annot=False, fmt=\"d\", cmap=\"Blues\", \n",
    "            xticklabels=['Healthy','Severe'], yticklabels=['Healthy','Severe']\n",
    "           ,annot_kws={\"fontsize\": 14},)\n",
    "plt.xlabel('Predicted')\n",
    "plt.ylabel('Actual')\n",
    "plt.title('Confusion Matrix')\n",
    "plt.tick_params(axis='both', which='major', labelsize=12)  # Adjust tick label size\n",
    "\n",
    "for i in range(len(rf_model.classes_)):\n",
    "    for j in range(len(rf_model.classes_)):\n",
    "        if i == j:  # Condition to check diagonal cells (true positives)\n",
    "            plt.text(j + 0.5, i + 0.5, conf_matrix[i, j],\n",
    "                     ha=\"center\", va=\"center\", color='white', fontsize=16)\n",
    "        else:\n",
    "            plt.text(j + 0.5, i + 0.5, conf_matrix[i, j],\n",
    "                     ha=\"center\", va=\"center\", color='black', fontsize=16)\n",
    "\n",
    "plt.show()\n"
   ]
  },
  {
   "cell_type": "markdown",
   "id": "47e445b7-5b6f-4d51-abc3-359748a9e51a",
   "metadata": {},
   "source": [
    "### Save model"
   ]
  },
  {
   "cell_type": "code",
   "execution_count": 16,
   "id": "5c8e3bbc-bd90-4c55-81f1-f6f192163298",
   "metadata": {},
   "outputs": [
    {
     "data": {
      "text/plain": [
       "['/data1/home/EYH/network/shap_git_scripts/rf_model.pkl']"
      ]
     },
     "execution_count": 16,
     "metadata": {},
     "output_type": "execute_result"
    }
   ],
   "source": [
    "import joblib\n",
    "joblib.dump(rf_model, '/model/rf_model.pkl') "
   ]
  },
  {
   "cell_type": "code",
   "execution_count": null,
   "id": "c2271bac-8c4f-45c3-b79b-b78cefebf429",
   "metadata": {},
   "outputs": [],
   "source": []
  }
 ],
 "metadata": {
  "kernelspec": {
   "display_name": "Python 3 (ipykernel)",
   "language": "python",
   "name": "python3"
  },
  "language_info": {
   "codemirror_mode": {
    "name": "ipython",
    "version": 3
   },
   "file_extension": ".py",
   "mimetype": "text/x-python",
   "name": "python",
   "nbconvert_exporter": "python",
   "pygments_lexer": "ipython3",
   "version": "3.9.7"
  }
 },
 "nbformat": 4,
 "nbformat_minor": 5
}
